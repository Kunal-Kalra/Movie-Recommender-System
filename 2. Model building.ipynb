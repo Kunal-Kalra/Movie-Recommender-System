{
 "cells": [
  {
   "cell_type": "code",
   "execution_count": 1,
   "id": "6e806b40",
   "metadata": {},
   "outputs": [],
   "source": [
    "import pandas as pd\n",
    "import numpy as np"
   ]
  },
  {
   "cell_type": "code",
   "execution_count": 2,
   "id": "864f0eb1",
   "metadata": {},
   "outputs": [],
   "source": [
    "movies = pd.read_csv('preprocessed_df.csv')"
   ]
  },
  {
   "cell_type": "code",
   "execution_count": 3,
   "id": "ed0ee6bd",
   "metadata": {},
   "outputs": [
    {
     "data": {
      "text/html": [
       "<div>\n",
       "<style scoped>\n",
       "    .dataframe tbody tr th:only-of-type {\n",
       "        vertical-align: middle;\n",
       "    }\n",
       "\n",
       "    .dataframe tbody tr th {\n",
       "        vertical-align: top;\n",
       "    }\n",
       "\n",
       "    .dataframe thead th {\n",
       "        text-align: right;\n",
       "    }\n",
       "</style>\n",
       "<table border=\"1\" class=\"dataframe\">\n",
       "  <thead>\n",
       "    <tr style=\"text-align: right;\">\n",
       "      <th></th>\n",
       "      <th>Unnamed: 0</th>\n",
       "      <th>movie_id</th>\n",
       "      <th>title</th>\n",
       "      <th>genres</th>\n",
       "      <th>overview</th>\n",
       "      <th>keywords</th>\n",
       "      <th>cast</th>\n",
       "      <th>crew</th>\n",
       "      <th>vote_average</th>\n",
       "      <th>vote_count</th>\n",
       "    </tr>\n",
       "  </thead>\n",
       "  <tbody>\n",
       "    <tr>\n",
       "      <th>0</th>\n",
       "      <td>0</td>\n",
       "      <td>19995</td>\n",
       "      <td>['Avatar']</td>\n",
       "      <td>['Action', 'Adventure', 'Fantasy', 'ScienceFic...</td>\n",
       "      <td>['In', 'the', '22nd', 'century,', 'a', 'parapl...</td>\n",
       "      <td>['cultureclash', 'future', 'spacewar', 'spacec...</td>\n",
       "      <td>['SamWorthington', 'ZoeSaldana', 'SigourneyWea...</td>\n",
       "      <td>['JamesCameron']</td>\n",
       "      <td>7.2</td>\n",
       "      <td>11800</td>\n",
       "    </tr>\n",
       "    <tr>\n",
       "      <th>1</th>\n",
       "      <td>1</td>\n",
       "      <td>285</td>\n",
       "      <td>['Pirates', 'of', 'the', 'Caribbean:', 'At', \"...</td>\n",
       "      <td>['Adventure', 'Fantasy', 'Action']</td>\n",
       "      <td>['Captain', 'Barbossa,', 'long', 'believed', '...</td>\n",
       "      <td>['ocean', 'drugabuse', 'exoticisland', 'eastin...</td>\n",
       "      <td>['JohnnyDepp', 'OrlandoBloom', 'KeiraKnightley...</td>\n",
       "      <td>['GoreVerbinski']</td>\n",
       "      <td>6.9</td>\n",
       "      <td>4500</td>\n",
       "    </tr>\n",
       "    <tr>\n",
       "      <th>2</th>\n",
       "      <td>2</td>\n",
       "      <td>206647</td>\n",
       "      <td>['Spectre']</td>\n",
       "      <td>['Action', 'Adventure', 'Crime']</td>\n",
       "      <td>['A', 'cryptic', 'message', 'from', 'Bond’s', ...</td>\n",
       "      <td>['spy', 'basedonnovel', 'secretagent', 'sequel...</td>\n",
       "      <td>['DanielCraig', 'ChristophWaltz', 'LéaSeydoux'...</td>\n",
       "      <td>['SamMendes']</td>\n",
       "      <td>6.3</td>\n",
       "      <td>4466</td>\n",
       "    </tr>\n",
       "    <tr>\n",
       "      <th>3</th>\n",
       "      <td>3</td>\n",
       "      <td>49026</td>\n",
       "      <td>['The', 'Dark', 'Knight', 'Rises']</td>\n",
       "      <td>['Action', 'Crime', 'Drama', 'Thriller']</td>\n",
       "      <td>['Following', 'the', 'death', 'of', 'District'...</td>\n",
       "      <td>['dccomics', 'crimefighter', 'terrorist', 'sec...</td>\n",
       "      <td>['ChristianBale', 'MichaelCaine', 'GaryOldman'...</td>\n",
       "      <td>['ChristopherNolan']</td>\n",
       "      <td>7.6</td>\n",
       "      <td>9106</td>\n",
       "    </tr>\n",
       "    <tr>\n",
       "      <th>4</th>\n",
       "      <td>4</td>\n",
       "      <td>49529</td>\n",
       "      <td>['John', 'Carter']</td>\n",
       "      <td>['Action', 'Adventure', 'ScienceFiction']</td>\n",
       "      <td>['John', 'Carter', 'is', 'a', 'war-weary,', 'f...</td>\n",
       "      <td>['basedonnovel', 'mars', 'medallion', 'spacetr...</td>\n",
       "      <td>['TaylorKitsch', 'LynnCollins', 'SamanthaMorto...</td>\n",
       "      <td>['AndrewStanton']</td>\n",
       "      <td>6.1</td>\n",
       "      <td>2124</td>\n",
       "    </tr>\n",
       "  </tbody>\n",
       "</table>\n",
       "</div>"
      ],
      "text/plain": [
       "   Unnamed: 0  movie_id                                              title  \\\n",
       "0           0     19995                                         ['Avatar']   \n",
       "1           1       285  ['Pirates', 'of', 'the', 'Caribbean:', 'At', \"...   \n",
       "2           2    206647                                        ['Spectre']   \n",
       "3           3     49026                 ['The', 'Dark', 'Knight', 'Rises']   \n",
       "4           4     49529                                 ['John', 'Carter']   \n",
       "\n",
       "                                              genres  \\\n",
       "0  ['Action', 'Adventure', 'Fantasy', 'ScienceFic...   \n",
       "1                 ['Adventure', 'Fantasy', 'Action']   \n",
       "2                   ['Action', 'Adventure', 'Crime']   \n",
       "3           ['Action', 'Crime', 'Drama', 'Thriller']   \n",
       "4          ['Action', 'Adventure', 'ScienceFiction']   \n",
       "\n",
       "                                            overview  \\\n",
       "0  ['In', 'the', '22nd', 'century,', 'a', 'parapl...   \n",
       "1  ['Captain', 'Barbossa,', 'long', 'believed', '...   \n",
       "2  ['A', 'cryptic', 'message', 'from', 'Bond’s', ...   \n",
       "3  ['Following', 'the', 'death', 'of', 'District'...   \n",
       "4  ['John', 'Carter', 'is', 'a', 'war-weary,', 'f...   \n",
       "\n",
       "                                            keywords  \\\n",
       "0  ['cultureclash', 'future', 'spacewar', 'spacec...   \n",
       "1  ['ocean', 'drugabuse', 'exoticisland', 'eastin...   \n",
       "2  ['spy', 'basedonnovel', 'secretagent', 'sequel...   \n",
       "3  ['dccomics', 'crimefighter', 'terrorist', 'sec...   \n",
       "4  ['basedonnovel', 'mars', 'medallion', 'spacetr...   \n",
       "\n",
       "                                                cast                  crew  \\\n",
       "0  ['SamWorthington', 'ZoeSaldana', 'SigourneyWea...      ['JamesCameron']   \n",
       "1  ['JohnnyDepp', 'OrlandoBloom', 'KeiraKnightley...     ['GoreVerbinski']   \n",
       "2  ['DanielCraig', 'ChristophWaltz', 'LéaSeydoux'...         ['SamMendes']   \n",
       "3  ['ChristianBale', 'MichaelCaine', 'GaryOldman'...  ['ChristopherNolan']   \n",
       "4  ['TaylorKitsch', 'LynnCollins', 'SamanthaMorto...     ['AndrewStanton']   \n",
       "\n",
       "   vote_average  vote_count  \n",
       "0           7.2       11800  \n",
       "1           6.9        4500  \n",
       "2           6.3        4466  \n",
       "3           7.6        9106  \n",
       "4           6.1        2124  "
      ]
     },
     "execution_count": 3,
     "metadata": {},
     "output_type": "execute_result"
    }
   ],
   "source": [
    "movies.head()"
   ]
  },
  {
   "cell_type": "code",
   "execution_count": 4,
   "id": "34df13b9",
   "metadata": {},
   "outputs": [],
   "source": [
    "from ast import literal_eval \n",
    "#literal_eval is used to covert given string to list for easy exctation\n",
    "def extract(x):\n",
    "    List=[]\n",
    "    for i in literal_eval(x):\n",
    "        List.append(i)\n",
    "    return List"
   ]
  },
  {
   "cell_type": "code",
   "execution_count": 5,
   "id": "51473995",
   "metadata": {},
   "outputs": [],
   "source": [
    "movies['title'] = movies['title'].apply(extract)\n",
    "movies['genres'] = movies['genres'].apply(extract)\n",
    "movies['overview'] = movies['overview'].apply(extract)\n",
    "movies['keywords'] = movies['keywords'].apply(extract)\n",
    "movies['cast'] = movies['cast'].apply(extract)\n",
    "movies['crew'] = movies['crew'].apply(extract)"
   ]
  },
  {
   "cell_type": "code",
   "execution_count": 6,
   "id": "fd09cd06",
   "metadata": {},
   "outputs": [
    {
     "data": {
      "text/html": [
       "<div>\n",
       "<style scoped>\n",
       "    .dataframe tbody tr th:only-of-type {\n",
       "        vertical-align: middle;\n",
       "    }\n",
       "\n",
       "    .dataframe tbody tr th {\n",
       "        vertical-align: top;\n",
       "    }\n",
       "\n",
       "    .dataframe thead th {\n",
       "        text-align: right;\n",
       "    }\n",
       "</style>\n",
       "<table border=\"1\" class=\"dataframe\">\n",
       "  <thead>\n",
       "    <tr style=\"text-align: right;\">\n",
       "      <th></th>\n",
       "      <th>Unnamed: 0</th>\n",
       "      <th>movie_id</th>\n",
       "      <th>title</th>\n",
       "      <th>genres</th>\n",
       "      <th>overview</th>\n",
       "      <th>keywords</th>\n",
       "      <th>cast</th>\n",
       "      <th>crew</th>\n",
       "      <th>vote_average</th>\n",
       "      <th>vote_count</th>\n",
       "    </tr>\n",
       "  </thead>\n",
       "  <tbody>\n",
       "    <tr>\n",
       "      <th>0</th>\n",
       "      <td>0</td>\n",
       "      <td>19995</td>\n",
       "      <td>[Avatar]</td>\n",
       "      <td>[Action, Adventure, Fantasy, ScienceFiction]</td>\n",
       "      <td>[In, the, 22nd, century,, a, paraplegic, Marin...</td>\n",
       "      <td>[cultureclash, future, spacewar, spacecolony, ...</td>\n",
       "      <td>[SamWorthington, ZoeSaldana, SigourneyWeaver, ...</td>\n",
       "      <td>[JamesCameron]</td>\n",
       "      <td>7.2</td>\n",
       "      <td>11800</td>\n",
       "    </tr>\n",
       "    <tr>\n",
       "      <th>1</th>\n",
       "      <td>1</td>\n",
       "      <td>285</td>\n",
       "      <td>[Pirates, of, the, Caribbean:, At, World's, End]</td>\n",
       "      <td>[Adventure, Fantasy, Action]</td>\n",
       "      <td>[Captain, Barbossa,, long, believed, to, be, d...</td>\n",
       "      <td>[ocean, drugabuse, exoticisland, eastindiatrad...</td>\n",
       "      <td>[JohnnyDepp, OrlandoBloom, KeiraKnightley, Ste...</td>\n",
       "      <td>[GoreVerbinski]</td>\n",
       "      <td>6.9</td>\n",
       "      <td>4500</td>\n",
       "    </tr>\n",
       "    <tr>\n",
       "      <th>2</th>\n",
       "      <td>2</td>\n",
       "      <td>206647</td>\n",
       "      <td>[Spectre]</td>\n",
       "      <td>[Action, Adventure, Crime]</td>\n",
       "      <td>[A, cryptic, message, from, Bond’s, past, send...</td>\n",
       "      <td>[spy, basedonnovel, secretagent, sequel, mi6, ...</td>\n",
       "      <td>[DanielCraig, ChristophWaltz, LéaSeydoux, Ralp...</td>\n",
       "      <td>[SamMendes]</td>\n",
       "      <td>6.3</td>\n",
       "      <td>4466</td>\n",
       "    </tr>\n",
       "    <tr>\n",
       "      <th>3</th>\n",
       "      <td>3</td>\n",
       "      <td>49026</td>\n",
       "      <td>[The, Dark, Knight, Rises]</td>\n",
       "      <td>[Action, Crime, Drama, Thriller]</td>\n",
       "      <td>[Following, the, death, of, District, Attorney...</td>\n",
       "      <td>[dccomics, crimefighter, terrorist, secretiden...</td>\n",
       "      <td>[ChristianBale, MichaelCaine, GaryOldman, Anne...</td>\n",
       "      <td>[ChristopherNolan]</td>\n",
       "      <td>7.6</td>\n",
       "      <td>9106</td>\n",
       "    </tr>\n",
       "    <tr>\n",
       "      <th>4</th>\n",
       "      <td>4</td>\n",
       "      <td>49529</td>\n",
       "      <td>[John, Carter]</td>\n",
       "      <td>[Action, Adventure, ScienceFiction]</td>\n",
       "      <td>[John, Carter, is, a, war-weary,, former, mili...</td>\n",
       "      <td>[basedonnovel, mars, medallion, spacetravel, p...</td>\n",
       "      <td>[TaylorKitsch, LynnCollins, SamanthaMorton, Wi...</td>\n",
       "      <td>[AndrewStanton]</td>\n",
       "      <td>6.1</td>\n",
       "      <td>2124</td>\n",
       "    </tr>\n",
       "  </tbody>\n",
       "</table>\n",
       "</div>"
      ],
      "text/plain": [
       "   Unnamed: 0  movie_id                                             title  \\\n",
       "0           0     19995                                          [Avatar]   \n",
       "1           1       285  [Pirates, of, the, Caribbean:, At, World's, End]   \n",
       "2           2    206647                                         [Spectre]   \n",
       "3           3     49026                        [The, Dark, Knight, Rises]   \n",
       "4           4     49529                                    [John, Carter]   \n",
       "\n",
       "                                         genres  \\\n",
       "0  [Action, Adventure, Fantasy, ScienceFiction]   \n",
       "1                  [Adventure, Fantasy, Action]   \n",
       "2                    [Action, Adventure, Crime]   \n",
       "3              [Action, Crime, Drama, Thriller]   \n",
       "4           [Action, Adventure, ScienceFiction]   \n",
       "\n",
       "                                            overview  \\\n",
       "0  [In, the, 22nd, century,, a, paraplegic, Marin...   \n",
       "1  [Captain, Barbossa,, long, believed, to, be, d...   \n",
       "2  [A, cryptic, message, from, Bond’s, past, send...   \n",
       "3  [Following, the, death, of, District, Attorney...   \n",
       "4  [John, Carter, is, a, war-weary,, former, mili...   \n",
       "\n",
       "                                            keywords  \\\n",
       "0  [cultureclash, future, spacewar, spacecolony, ...   \n",
       "1  [ocean, drugabuse, exoticisland, eastindiatrad...   \n",
       "2  [spy, basedonnovel, secretagent, sequel, mi6, ...   \n",
       "3  [dccomics, crimefighter, terrorist, secretiden...   \n",
       "4  [basedonnovel, mars, medallion, spacetravel, p...   \n",
       "\n",
       "                                                cast                crew  \\\n",
       "0  [SamWorthington, ZoeSaldana, SigourneyWeaver, ...      [JamesCameron]   \n",
       "1  [JohnnyDepp, OrlandoBloom, KeiraKnightley, Ste...     [GoreVerbinski]   \n",
       "2  [DanielCraig, ChristophWaltz, LéaSeydoux, Ralp...         [SamMendes]   \n",
       "3  [ChristianBale, MichaelCaine, GaryOldman, Anne...  [ChristopherNolan]   \n",
       "4  [TaylorKitsch, LynnCollins, SamanthaMorton, Wi...     [AndrewStanton]   \n",
       "\n",
       "   vote_average  vote_count  \n",
       "0           7.2       11800  \n",
       "1           6.9        4500  \n",
       "2           6.3        4466  \n",
       "3           7.6        9106  \n",
       "4           6.1        2124  "
      ]
     },
     "execution_count": 6,
     "metadata": {},
     "output_type": "execute_result"
    }
   ],
   "source": [
    "movies.head()"
   ]
  },
  {
   "cell_type": "code",
   "execution_count": 7,
   "id": "95adfdcd",
   "metadata": {},
   "outputs": [],
   "source": [
    "movies['tags'] = movies['title'] + movies['cast'] + movies['crew'] + movies['genres'] + movies['keywords'] + movies['overview']"
   ]
  },
  {
   "cell_type": "code",
   "execution_count": 8,
   "id": "8b760294",
   "metadata": {},
   "outputs": [
    {
     "data": {
      "text/html": [
       "<div>\n",
       "<style scoped>\n",
       "    .dataframe tbody tr th:only-of-type {\n",
       "        vertical-align: middle;\n",
       "    }\n",
       "\n",
       "    .dataframe tbody tr th {\n",
       "        vertical-align: top;\n",
       "    }\n",
       "\n",
       "    .dataframe thead th {\n",
       "        text-align: right;\n",
       "    }\n",
       "</style>\n",
       "<table border=\"1\" class=\"dataframe\">\n",
       "  <thead>\n",
       "    <tr style=\"text-align: right;\">\n",
       "      <th></th>\n",
       "      <th>movie_id</th>\n",
       "      <th>title</th>\n",
       "      <th>tags</th>\n",
       "    </tr>\n",
       "  </thead>\n",
       "  <tbody>\n",
       "    <tr>\n",
       "      <th>0</th>\n",
       "      <td>19995</td>\n",
       "      <td>[Avatar]</td>\n",
       "      <td>[Avatar, SamWorthington, ZoeSaldana, Sigourney...</td>\n",
       "    </tr>\n",
       "    <tr>\n",
       "      <th>1</th>\n",
       "      <td>285</td>\n",
       "      <td>[Pirates, of, the, Caribbean:, At, World's, End]</td>\n",
       "      <td>[Pirates, of, the, Caribbean:, At, World's, En...</td>\n",
       "    </tr>\n",
       "    <tr>\n",
       "      <th>2</th>\n",
       "      <td>206647</td>\n",
       "      <td>[Spectre]</td>\n",
       "      <td>[Spectre, DanielCraig, ChristophWaltz, LéaSeyd...</td>\n",
       "    </tr>\n",
       "    <tr>\n",
       "      <th>3</th>\n",
       "      <td>49026</td>\n",
       "      <td>[The, Dark, Knight, Rises]</td>\n",
       "      <td>[The, Dark, Knight, Rises, ChristianBale, Mich...</td>\n",
       "    </tr>\n",
       "    <tr>\n",
       "      <th>4</th>\n",
       "      <td>49529</td>\n",
       "      <td>[John, Carter]</td>\n",
       "      <td>[John, Carter, TaylorKitsch, LynnCollins, Sama...</td>\n",
       "    </tr>\n",
       "  </tbody>\n",
       "</table>\n",
       "</div>"
      ],
      "text/plain": [
       "   movie_id                                             title  \\\n",
       "0     19995                                          [Avatar]   \n",
       "1       285  [Pirates, of, the, Caribbean:, At, World's, End]   \n",
       "2    206647                                         [Spectre]   \n",
       "3     49026                        [The, Dark, Knight, Rises]   \n",
       "4     49529                                    [John, Carter]   \n",
       "\n",
       "                                                tags  \n",
       "0  [Avatar, SamWorthington, ZoeSaldana, Sigourney...  \n",
       "1  [Pirates, of, the, Caribbean:, At, World's, En...  \n",
       "2  [Spectre, DanielCraig, ChristophWaltz, LéaSeyd...  \n",
       "3  [The, Dark, Knight, Rises, ChristianBale, Mich...  \n",
       "4  [John, Carter, TaylorKitsch, LynnCollins, Sama...  "
      ]
     },
     "execution_count": 8,
     "metadata": {},
     "output_type": "execute_result"
    }
   ],
   "source": [
    "movies = movies[['movie_id', 'title', 'tags']]\n",
    "movies.head()"
   ]
  },
  {
   "cell_type": "code",
   "execution_count": 9,
   "id": "4837d6cd",
   "metadata": {},
   "outputs": [],
   "source": [
    "movies['tags'] = movies['tags'].apply(lambda x:\" \".join(x))\n",
    "movies['tags'] = movies['tags'].apply(lambda x:x.lower())"
   ]
  },
  {
   "cell_type": "code",
   "execution_count": 10,
   "id": "e026f7a5",
   "metadata": {},
   "outputs": [
    {
     "data": {
      "text/plain": [
       "'avatar samworthington zoesaldana sigourneyweaver stephenlang jamescameron action adventure fantasy sciencefiction cultureclash future spacewar spacecolony society spacetravel futuristic romance space alien tribe alienplanet cgi marine soldier battle loveaffair antiwar powerrelations mindandsoul 3d in the 22nd century, a paraplegic marine is dispatched to the moon pandora on a unique mission, but becomes torn between following orders and protecting an alien civilization.'"
      ]
     },
     "execution_count": 10,
     "metadata": {},
     "output_type": "execute_result"
    }
   ],
   "source": [
    "movies['tags'][0]"
   ]
  },
  {
   "cell_type": "code",
   "execution_count": 11,
   "id": "c7870a2a",
   "metadata": {},
   "outputs": [],
   "source": [
    "from nltk.stem.porter import PorterStemmer\n",
    "ps = PorterStemmer()\n",
    "def stem(text):\n",
    "    y = []\n",
    "    for i in text.split():\n",
    "        y.append(ps.stem(i))\n",
    "    return \" \".join(y)"
   ]
  },
  {
   "cell_type": "code",
   "execution_count": 12,
   "id": "f0f18027",
   "metadata": {},
   "outputs": [],
   "source": [
    "movies['tags'] = movies['tags'].apply(stem)"
   ]
  },
  {
   "cell_type": "code",
   "execution_count": 13,
   "id": "58972a12",
   "metadata": {},
   "outputs": [],
   "source": [
    "from sklearn.feature_extraction.text import CountVectorizer\n",
    "cv = CountVectorizer(max_features = 6000, stop_words='english')\n",
    "matrix = cv.fit_transform(movies['tags']).toarray()"
   ]
  },
  {
   "cell_type": "code",
   "execution_count": 14,
   "id": "a751878f",
   "metadata": {},
   "outputs": [
    {
     "data": {
      "text/plain": [
       "(4818, 6000)"
      ]
     },
     "execution_count": 14,
     "metadata": {},
     "output_type": "execute_result"
    }
   ],
   "source": [
    "matrix.shape"
   ]
  },
  {
   "cell_type": "code",
   "execution_count": 15,
   "id": "47d1bcf3",
   "metadata": {},
   "outputs": [],
   "source": [
    "from sklearn.metrics.pairwise import cosine_similarity\n",
    "#returns dot product\n",
    "similarity = cosine_similarity(matrix)"
   ]
  },
  {
   "cell_type": "code",
   "execution_count": 16,
   "id": "d5c825e9",
   "metadata": {},
   "outputs": [],
   "source": [
    "np.save('similarity', similarity)\n",
    "np.save('occurance', matrix)"
   ]
  },
  {
   "cell_type": "code",
   "execution_count": 18,
   "id": "c3415b37",
   "metadata": {},
   "outputs": [],
   "source": [
    "import pickle\n",
    "pickle.dump(similarity, open('similarity.pkl', 'wb'))\n",
    "pickle.dump(matrix, open('occurance.pkl', 'wb'))"
   ]
  },
  {
   "cell_type": "code",
   "execution_count": null,
   "id": "32df558f",
   "metadata": {},
   "outputs": [],
   "source": []
  }
 ],
 "metadata": {
  "kernelspec": {
   "display_name": "Python 3 (ipykernel)",
   "language": "python",
   "name": "python3"
  },
  "language_info": {
   "codemirror_mode": {
    "name": "ipython",
    "version": 3
   },
   "file_extension": ".py",
   "mimetype": "text/x-python",
   "name": "python",
   "nbconvert_exporter": "python",
   "pygments_lexer": "ipython3",
   "version": "3.10.6"
  }
 },
 "nbformat": 4,
 "nbformat_minor": 5
}
