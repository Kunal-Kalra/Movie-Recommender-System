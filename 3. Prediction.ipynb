{
 "cells": [
  {
   "cell_type": "code",
   "execution_count": 1,
   "id": "cadc9371",
   "metadata": {},
   "outputs": [],
   "source": [
    "import pandas as pd\n",
    "import numpy as np"
   ]
  },
  {
   "cell_type": "code",
   "execution_count": 2,
   "id": "3cf7a906",
   "metadata": {},
   "outputs": [],
   "source": [
    "movies = pd.read_csv('movies.csv')\n",
    "similarity = np.load('similarity.npy')\n",
    "occurance = np.load('occurance.npy')"
   ]
  },
  {
   "cell_type": "code",
   "execution_count": 3,
   "id": "b8fbf02c",
   "metadata": {},
   "outputs": [],
   "source": [
    "def recommend_search():\n",
    "    movie = input(\"Enter movie name: \")\n",
    "    \n",
    "    movie_index = movies[movies['title'] == movie].index[0]\n",
    "    distances = similarity[movie_index]\n",
    "    movie_list = sorted(list(enumerate(distances)),reverse=True,key=lambda x:x[1])[0:11]\n",
    "    \n",
    "    for i in movie_list:\n",
    "        print(movies.iloc[i[0]].title)"
   ]
  },
  {
   "cell_type": "code",
   "execution_count": 4,
   "id": "9b1ea19d",
   "metadata": {},
   "outputs": [],
   "source": [
    "def recommend_user():\n",
    "    #num_of_movies = input('Number of movies: ')\n",
    "    a = [movie for movie in input(\"Enter movies: \").split(\", \")]\n",
    "    \n",
    "    num_of_movies = len(a)\n",
    "    #movie_index_list = [movies[movies['title'] == movie].index[0]]\n",
    "    movie_index_list = [movies[movies['title'] == movie].index[0] for movie in a]\n",
    "    x = np.linspace(0, 0, 6000)\n",
    "    for i in movie_index_list:\n",
    "        x = x + occurance[i]\n",
    "    #cummulative vector of all movies\n",
    "    List=[]\n",
    "    for i in range(4806):\n",
    "        t = np.dot(x, occurance[i])\n",
    "        List.append(t)\n",
    "    movie_list = sorted(list(enumerate(List)),reverse=True,key=lambda x:x[1])[num_of_movies:10+num_of_movies]\n",
    "        \n",
    "    for i in movie_list:\n",
    "        print(movies.iloc[i[0]].title)  "
   ]
  },
  {
   "cell_type": "code",
   "execution_count": 9,
   "id": "6dd1d428",
   "metadata": {},
   "outputs": [
    {
     "name": "stdout",
     "output_type": "stream",
     "text": [
      "Enter movie name: Iron Man\n",
      "Iron Man\n",
      "Iron Man 3\n",
      "Iron Man 2\n",
      "Avengers: Age of Ultron\n",
      "Captain America: Civil War\n",
      "Ant-Man\n",
      "The Avengers\n",
      "Guardians of the Galaxy\n",
      "X-Men\n",
      "X-Men Origins: Wolverine\n",
      "X2\n"
     ]
    }
   ],
   "source": [
    "recommend_search()"
   ]
  },
  {
   "cell_type": "code",
   "execution_count": 10,
   "id": "86e0be96",
   "metadata": {},
   "outputs": [
    {
     "name": "stdout",
     "output_type": "stream",
     "text": [
      "Enter movies: Avatar, Iron Man, Titanic\n",
      "Iron Man 2\n",
      "Pirates of the Caribbean: On Stranger Tides\n",
      "Saving Private Perez\n",
      "Gladiator\n",
      "Mad Max: Fury Road\n",
      "8MM\n",
      "The Sound of Music\n",
      "Act of Valor\n",
      "Star Trek Into Darkness\n",
      "Hercules\n"
     ]
    }
   ],
   "source": [
    "recommend_user()"
   ]
  },
  {
   "cell_type": "code",
   "execution_count": null,
   "id": "5c8a39e0",
   "metadata": {},
   "outputs": [],
   "source": [
    "def recommend_cold_start():\n",
    "    #read preferences\n",
    "    #use count vectorizer to put it into dimensions\n",
    "    #use cosine similaity with each movie\n",
    "    #sort and get the top recommendations\n",
    "    return"
   ]
  }
 ],
 "metadata": {
  "kernelspec": {
   "display_name": "Python 3 (ipykernel)",
   "language": "python",
   "name": "python3"
  },
  "language_info": {
   "codemirror_mode": {
    "name": "ipython",
    "version": 3
   },
   "file_extension": ".py",
   "mimetype": "text/x-python",
   "name": "python",
   "nbconvert_exporter": "python",
   "pygments_lexer": "ipython3",
   "version": "3.10.6"
  }
 },
 "nbformat": 4,
 "nbformat_minor": 5
}
